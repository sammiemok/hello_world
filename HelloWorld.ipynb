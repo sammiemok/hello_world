{
 "cells": [
  {
   "cell_type": "code",
   "execution_count": 1,
   "id": "bf6eb090",
   "metadata": {},
   "outputs": [
    {
     "name": "stdout",
     "output_type": "stream",
     "text": [
      "Hello World!\n"
     ]
    }
   ],
   "source": [
    "print(\"Hello World!\")"
   ]
  },
  {
   "cell_type": "code",
   "execution_count": 2,
   "id": "a630b032",
   "metadata": {},
   "outputs": [
    {
     "name": "stdout",
     "output_type": "stream",
     "text": [
      "Goodbye World!!\n"
     ]
    }
   ],
   "source": [
    "print(\"Goodbye World!!\")"
   ]
  },
  {
   "cell_type": "code",
   "execution_count": 4,
   "id": "6c7c5c7c",
   "metadata": {},
   "outputs": [
    {
     "name": "stdout",
     "output_type": "stream",
     "text": [
      "Hello World 1!\n",
      "Hello World 2!\n",
      "Hello World 3!\n",
      "Hello World 4!\n",
      "Hello World 5!\n"
     ]
    }
   ],
   "source": [
    "for i in range(5):\n",
    "    print(f'Hello World {i+1}!')"
   ]
  },
  {
   "cell_type": "code",
   "execution_count": null,
   "id": "5a8bfc9e",
   "metadata": {},
   "outputs": [],
   "source": []
  }
 ],
 "metadata": {
  "kernelspec": {
   "display_name": "Python 3 (ipykernel)",
   "language": "python",
   "name": "python3"
  },
  "language_info": {
   "codemirror_mode": {
    "name": "ipython",
    "version": 3
   },
   "file_extension": ".py",
   "mimetype": "text/x-python",
   "name": "python",
   "nbconvert_exporter": "python",
   "pygments_lexer": "ipython3",
   "version": "3.9.7"
  }
 },
 "nbformat": 4,
 "nbformat_minor": 5
}
